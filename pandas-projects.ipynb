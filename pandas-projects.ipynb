{
 "cells": [
  {
   "cell_type": "code",
   "execution_count": 5,
   "metadata": {},
   "outputs": [
    {
     "name": "stdout",
     "output_type": "stream",
     "text": [
      "          Sales Person    Country              Product       Date    Amount  \\\n",
      "0       Jehu Rudeforth         UK      Mint Chip Choco   4-Jan-22   $5,320    \n",
      "1          Van Tuxwell      India        85% Dark Bars   1-Aug-22   $7,896    \n",
      "2         Gigi Bohling      India  Peanut Butter Cubes   7-Jul-22   $4,501    \n",
      "3         Jan Morforth  Australia  Peanut Butter Cubes  27-Apr-22  $12,726    \n",
      "4       Jehu Rudeforth         UK  Peanut Butter Cubes  24-Feb-22  $13,685    \n",
      "...                ...        ...                  ...        ...       ...   \n",
      "1089  Karlen McCaffrey  Australia  Spicy Special Slims  17-May-22   $4,410    \n",
      "1090    Jehu Rudeforth        USA           White Choc   7-Jun-22   $6,559    \n",
      "1091      Ches Bonnell     Canada  Organic Choco Syrup  26-Jul-22     $574    \n",
      "1092    Dotty Strutley      India              Eclairs  28-Jul-22   $2,086    \n",
      "1093  Karlen McCaffrey      India       70% Dark Bites  23-May-22   $5,075    \n",
      "\n",
      "      Boxes Shipped  \n",
      "0               180  \n",
      "1                94  \n",
      "2                91  \n",
      "3               342  \n",
      "4               184  \n",
      "...             ...  \n",
      "1089            323  \n",
      "1090            119  \n",
      "1091            217  \n",
      "1092            384  \n",
      "1093            344  \n",
      "\n",
      "[1094 rows x 6 columns]\n"
     ]
    }
   ],
   "source": [
    "import pandas as pd\n",
    "import csv\n",
    "df = pd.read_csv('Chocolate Sales.csv')\n",
    "print(df)"
   ]
  }
 ],
 "metadata": {
  "kernelspec": {
   "display_name": "Python (learn-env)",
   "language": "python",
   "name": "learn-env"
  },
  "language_info": {
   "codemirror_mode": {
    "name": "ipython",
    "version": 3
   },
   "file_extension": ".py",
   "mimetype": "text/x-python",
   "name": "python",
   "nbconvert_exporter": "python",
   "pygments_lexer": "ipython3",
   "version": "3.8.5"
  }
 },
 "nbformat": 4,
 "nbformat_minor": 2
}
